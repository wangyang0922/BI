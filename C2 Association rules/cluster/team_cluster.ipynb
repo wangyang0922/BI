{
 "cells": [
  {
   "cell_type": "code",
   "execution_count": 15,
   "metadata": {},
   "outputs": [],
   "source": [
    "# coding: utf-8\n",
    "from sklearn.cluster import KMeans\n",
    "from sklearn import preprocessing\n",
    "import pandas as pd\n",
    "import numpy as np"
   ]
  },
  {
   "cell_type": "code",
   "execution_count": 2,
   "metadata": {},
   "outputs": [],
   "source": [
    "# 数据加载\n",
    "data = pd.read_csv('team_cluster_data.csv', encoding='gbk')\n",
    "train_x = data[[\"2019国际排名\",\"2018世界杯排名\",\"2015亚洲杯排名\"]]\n",
    "kmeans = KMeans(n_clusters=3)"
   ]
  },
  {
   "cell_type": "code",
   "execution_count": 5,
   "metadata": {},
   "outputs": [
    {
     "name": "stdout",
     "output_type": "stream",
     "text": [
      "    2019国际排名  2018世界杯排名  2015亚洲杯排名\n",
      "0         73         40          7\n",
      "1         60         15          5\n",
      "2         61         19          2\n",
      "3         34         18          6\n",
      "4         67         26         10\n",
      "5         91         40          4\n",
      "6        101         40         13\n",
      "7         81         40          6\n",
      "8         88         40          8\n",
      "9        122         40         17\n",
      "10       102         50         17\n",
      "11        87         50         12\n",
      "12       110         50         14\n",
      "13       164         50         17\n",
      "14        40         30          1\n",
      "15        76         40         17\n",
      "16       118         50          9\n",
      "17       160         50         15\n"
     ]
    }
   ],
   "source": [
    "print(train_x)"
   ]
  },
  {
   "cell_type": "code",
   "execution_count": 7,
   "metadata": {},
   "outputs": [
    {
     "name": "stdout",
     "output_type": "stream",
     "text": [
      "[[0.3        0.71428571 0.375     ]\n",
      " [0.2        0.         0.25      ]\n",
      " [0.20769231 0.11428571 0.0625    ]\n",
      " [0.         0.08571429 0.3125    ]\n",
      " [0.25384615 0.31428571 0.5625    ]\n",
      " [0.43846154 0.71428571 0.1875    ]\n",
      " [0.51538462 0.71428571 0.75      ]\n",
      " [0.36153846 0.71428571 0.3125    ]\n",
      " [0.41538462 0.71428571 0.4375    ]\n",
      " [0.67692308 0.71428571 1.        ]\n",
      " [0.52307692 1.         1.        ]\n",
      " [0.40769231 1.         0.6875    ]\n",
      " [0.58461538 1.         0.8125    ]\n",
      " [1.         1.         1.        ]\n",
      " [0.04615385 0.42857143 0.        ]\n",
      " [0.32307692 0.71428571 1.        ]\n",
      " [0.64615385 1.         0.5       ]\n",
      " [0.96923077 1.         0.875     ]]\n"
     ]
    }
   ],
   "source": [
    "# Min-max规范化--规范化到 [0,1] 空间\n",
    "min_max_scaler=preprocessing.MinMaxScaler()\n",
    "train_x=min_max_scaler.fit_transform(train_x)\n",
    "print(train_x)"
   ]
  },
  {
   "cell_type": "code",
   "execution_count": 12,
   "metadata": {},
   "outputs": [
    {
     "name": "stdout",
     "output_type": "stream",
     "text": [
      "        国家  2019国际排名  2018世界杯排名  2015亚洲杯排名  聚类结果\n",
      "0       中国        73         40          7     2\n",
      "1       日本        60         15          5     1\n",
      "2       韩国        61         19          2     1\n",
      "3       伊朗        34         18          6     1\n",
      "4       沙特        67         26         10     1\n",
      "5      伊拉克        91         40          4     2\n",
      "6      卡塔尔       101         40         13     0\n",
      "7      阿联酋        81         40          6     2\n",
      "8   乌兹别克斯坦        88         40          8     2\n",
      "9       泰国       122         40         17     0\n",
      "10      越南       102         50         17     0\n",
      "11      阿曼        87         50         12     0\n",
      "12      朝鲜       110         50         14     0\n",
      "13      印尼       164         50         17     0\n",
      "14      澳洲        40         30          1     1\n",
      "15     叙利亚        76         40         17     0\n",
      "16      约旦       118         50          9     2\n",
      "17     科威特       160         50         15     0\n"
     ]
    }
   ],
   "source": [
    "# kmeans 算法\n",
    "kmeans.fit(train_x)\n",
    "predict_y = kmeans.predict(train_x)\n",
    "\n",
    "# 合并聚类结果，插入到原数据中\n",
    "result = pd.concat((data,pd.DataFrame(predict_y)),axis=1)\n",
    "result.rename({0:u'聚类结果'},axis=1,inplace=True)\n",
    "print(result)"
   ]
  },
  {
   "cell_type": "code",
   "execution_count": 11,
   "metadata": {},
   "outputs": [
    {
     "name": "stdout",
     "output_type": "stream",
     "text": [
      "        国家  2019国际排名  2018世界杯排名  2015亚洲杯排名  聚类结果\n",
      "0       中国        73         40          7     0\n",
      "1       日本        60         15          5     1\n",
      "2       韩国        61         19          2     1\n",
      "3       伊朗        34         18          6     1\n",
      "4       沙特        67         26         10     1\n",
      "5      伊拉克        91         40          4     0\n",
      "6      卡塔尔       101         40         13     2\n",
      "7      阿联酋        81         40          6     0\n",
      "8   乌兹别克斯坦        88         40          8     0\n",
      "9       泰国       122         40         17     2\n",
      "10      越南       102         50         17     2\n",
      "11      阿曼        87         50         12     0\n",
      "12      朝鲜       110         50         14     2\n",
      "13      印尼       164         50         17     2\n",
      "14      澳洲        40         30          1     1\n",
      "15     叙利亚        76         40         17     2\n",
      "16      约旦       118         50          9     0\n",
      "17     科威特       160         50         15     2\n"
     ]
    }
   ],
   "source": [
    "from sklearn.mixture import GaussianMixture\n",
    "model = GaussianMixture(n_components=3, covariance_type=\"full\")\n",
    "model.fit(train_x)\n",
    "predict_y = model.predict(train_x)\n",
    "# 合并聚类结果，插入到原数据中\n",
    "result = pd.concat((data,pd.DataFrame(predict_y)),axis=1)\n",
    "result.rename({0:u'聚类结果'},axis=1,inplace=True)\n",
    "print(result)"
   ]
  },
  {
   "cell_type": "code",
   "execution_count": 14,
   "metadata": {},
   "outputs": [],
   "source": [
    "# 将结果导出到CSV文件中\n",
    "#result.to_csv(\"team_cluster_result.csv\")"
   ]
  },
  {
   "cell_type": "code",
   "execution_count": null,
   "metadata": {},
   "outputs": [],
   "source": []
  }
 ],
 "metadata": {
  "kernelspec": {
   "display_name": "Python 3",
   "language": "python",
   "name": "python3"
  },
  "language_info": {
   "codemirror_mode": {
    "name": "ipython",
    "version": 3
   },
   "file_extension": ".py",
   "mimetype": "text/x-python",
   "name": "python",
   "nbconvert_exporter": "python",
   "pygments_lexer": "ipython3",
   "version": "3.7.6"
  }
 },
 "nbformat": 4,
 "nbformat_minor": 4
}
