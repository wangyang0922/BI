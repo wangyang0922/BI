{
 "cells": [
  {
   "cell_type": "markdown",
   "metadata": {},
   "source": [
    "# TPOT \n",
    "\n",
    "    https://github.com/EpistasisLab/tpot （6.2K）\n",
    "        \n",
    "    TPOT可以解决：特征选择，模型选择，但不包括数据清洗\n",
    "    \n",
    "    处理小规模数据非常快，大规模数据非常慢。可以先抽样小部分，使用TPOT"
   ]
  },
  {
   "cell_type": "markdown",
   "metadata": {},
   "source": [
    "![tpot](img/6.png)"
   ]
  },
  {
   "cell_type": "markdown",
   "metadata": {},
   "source": [
    "### MNIST的10种解法\n"
   ]
  },
  {
   "cell_type": "markdown",
   "metadata": {},
   "source": [
    "![minist](img/7.png)"
   ]
  },
  {
   "cell_type": "code",
   "execution_count": 15,
   "metadata": {},
   "outputs": [
    {
     "name": "stdout",
     "output_type": "stream",
     "text": [
      "Warning: xgboost.XGBClassifier is not available and will not be used by TPOT.\n"
     ]
    },
    {
     "data": {
      "application/vnd.jupyter.widget-view+json": {
       "model_id": "6e10a547faba4be38941f690d173dff9",
       "version_major": 2,
       "version_minor": 0
      },
      "text/plain": [
       "HBox(children=(FloatProgress(value=0.0, description='Optimization Progress', max=120.0, style=ProgressStyle(de…"
      ]
     },
     "metadata": {},
     "output_type": "display_data"
    },
    {
     "name": "stdout",
     "output_type": "stream",
     "text": [
      "\n",
      "Generation 1 - Current best internal CV score: 0.9731225296442687\n",
      "\n",
      "Generation 2 - Current best internal CV score: 0.990909090909091\n",
      "\n",
      "Generation 3 - Current best internal CV score: 0.990909090909091\n",
      "\n",
      "Generation 4 - Current best internal CV score: 0.990909090909091\n",
      "\n",
      "Generation 5 - Current best internal CV score: 0.990909090909091\n",
      "\n",
      "Best pipeline: DecisionTreeClassifier(MultinomialNB(input_matrix, alpha=0.1, fit_prior=True), criterion=entropy, max_depth=5, min_samples_leaf=3, min_samples_split=18)\n",
      "0.9736842105263158\n"
     ]
    }
   ],
   "source": [
    "# project1 topt训练iris数据\n",
    "\n",
    "# 使用TPOT自动机器学习工具对MNIST进行分类\n",
    "from tpot import TPOTClassifier\n",
    "from sklearn.datasets import load_iris,load_digits\n",
    "from sklearn.model_selection import train_test_split\n",
    "import numpy as np\n",
    "\n",
    "# 加载数据\n",
    "iris = load_iris()\n",
    "\n",
    "# 切分数据\n",
    "X_train, X_test, y_train, y_test = train_test_split(iris.data.astype(np.float64),\n",
    "    iris.target.astype(np.float64), train_size=0.75, test_size=0.25)\n",
    "\n",
    "# 定义tpot\n",
    "# generations 运行管道优化过程的迭代次数 population_size：遗传进化中每一代要保留的个体数量 verbosity：tpot运行中能传递多少信息\n",
    "tpot = TPOTClassifier(generations=6, population_size=20, verbosity=2)\n",
    "tpot.fit(X_train, y_train)\n",
    "\n",
    "print(tpot.score(X_test, y_test))\n",
    "tpot.export('data/automl/tpot_iris_pipeline.py')"
   ]
  },
  {
   "cell_type": "code",
   "execution_count": 17,
   "metadata": {},
   "outputs": [
    {
     "name": "stdout",
     "output_type": "stream",
     "text": [
      "Warning: xgboost.XGBClassifier is not available and will not be used by TPOT.\n"
     ]
    },
    {
     "data": {
      "application/vnd.jupyter.widget-view+json": {
       "model_id": "7a34d76a16b341b5a35cae2dfaab6602",
       "version_major": 2,
       "version_minor": 0
      },
      "text/plain": [
       "HBox(children=(FloatProgress(value=0.0, description='Optimization Progress', max=120.0, style=ProgressStyle(de…"
      ]
     },
     "metadata": {},
     "output_type": "display_data"
    },
    {
     "name": "stdout",
     "output_type": "stream",
     "text": [
      "\n",
      "Generation 1 - Current best internal CV score: 0.9814401762357152\n",
      "\n",
      "Generation 2 - Current best internal CV score: 0.9814401762357152\n",
      "\n",
      "Generation 3 - Current best internal CV score: 0.9814401762357152\n",
      "\n",
      "Generation 4 - Current best internal CV score: 0.9814401762357152\n",
      "\n",
      "Generation 5 - Current best internal CV score: 0.9814401762357152\n",
      "\n",
      "Best pipeline: MLPClassifier(input_matrix, alpha=0.1, learning_rate_init=0.01)\n",
      "0.98\n"
     ]
    }
   ],
   "source": [
    "# 加载数据\n",
    "digits = load_digits()\n",
    "\n",
    "# 切分数据\n",
    "X_train, X_test, y_train, y_test = train_test_split(digits.data.astype(np.float64),\n",
    "    digits.target.astype(np.float64), train_size=0.75, test_size=0.25)\n",
    "\n",
    "# 定义tpot\n",
    "# generations 运行管道优化过程的迭代次数 population_size：遗传进化中每一代要保留的个体数量 verbosity：tpot运行中能传递多少信息\n",
    "tpot = TPOTClassifier(generations=5, population_size=20, verbosity=2)\n",
    "tpot.fit(X_train, y_train)\n",
    "\n",
    "print(tpot.score(X_test, y_test))\n",
    "\n",
    "tpot.export('data/automl/tpot_mnist_pipeline.py')"
   ]
  },
  {
   "cell_type": "code",
   "execution_count": 9,
   "metadata": {},
   "outputs": [],
   "source": [
    "mkdir data/automl"
   ]
  },
  {
   "cell_type": "code",
   "execution_count": null,
   "metadata": {},
   "outputs": [],
   "source": []
  }
 ],
 "metadata": {
  "kernelspec": {
   "display_name": "Python 3",
   "language": "python",
   "name": "python3"
  },
  "language_info": {
   "codemirror_mode": {
    "name": "ipython",
    "version": 3
   },
   "file_extension": ".py",
   "mimetype": "text/x-python",
   "name": "python",
   "nbconvert_exporter": "python",
   "pygments_lexer": "ipython3",
   "version": "3.7.6"
  }
 },
 "nbformat": 4,
 "nbformat_minor": 4
}
