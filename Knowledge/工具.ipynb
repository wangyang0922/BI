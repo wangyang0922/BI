{
 "cells": [
  {
   "cell_type": "code",
   "execution_count": null,
   "metadata": {},
   "outputs": [],
   "source": []
  },
  {
   "cell_type": "markdown",
   "metadata": {},
   "source": [
    "## 1、特征归一化\n",
    "     进行[0, 1]规范化之后，可以让不同维度的特征数据，在同一标准下可以进行比较"
   ]
  },
  {
   "cell_type": "markdown",
   "metadata": {},
   "source": [
    "### Min-max规范化\n",
    "    \n",
    "    新数值 = （原数值 - 最小值）/ 最大值 - 最小值"
   ]
  },
  {
   "cell_type": "markdown",
   "metadata": {},
   "source": [
    "### Z-Score规范化\n",
    "\n",
    "    新数值 = （原数值 - 均值）/ 标准差\n",
    "    \n",
    "    当前用得最多的数据标准化方式。"
   ]
  },
  {
   "cell_type": "markdown",
   "metadata": {},
   "source": [
    "### 小数定标规范化\n",
    "\n",
    "    通过移动小数点的位置来进行规范化\n",
    "\n",
    "    比如A的取值范围 [-9999,666]A的新数值=原数值/10000\n"
   ]
  },
  {
   "cell_type": "markdown",
   "metadata": {},
   "source": [
    "## 2、评测标准\n",
    "    准确率，召回率，精确率，F值"
   ]
  },
  {
   "cell_type": "markdown",
   "metadata": {},
   "source": [
    "![Image of Yaktocat](img/3.png)"
   ]
  },
  {
   "cell_type": "markdown",
   "metadata": {},
   "source": [
    "    TODO：暂时未掌握Jupyter直接编辑公式语法的方式，暂时使用图片引入，之后修正"
   ]
  },
  {
   "cell_type": "markdown",
   "metadata": {},
   "source": [
    "## 3、TF-IDF"
   ]
  },
  {
   "cell_type": "markdown",
   "metadata": {},
   "source": [
    "    TF：Term Frequency，词频 TF = 单词次数/文档中总单词数量\n",
    "    \n",
    "    一个单词的重要性和它在文档中出现的次数呈正比。\n",
    "    \n",
    "    IDF：Inverse Document Frequency，逆向文档频率\n",
    "\n",
    "    一个单词在文档中的区分度。这个单词出现的文档数越少，区分度越大，IDF越大\n",
    "    \n",
    "    IDF = log（文档总数/单词出现的文档数 + 1）\n"
   ]
  },
  {
   "cell_type": "markdown",
   "metadata": {},
   "source": [
    "## 4、Python中如何进行数据清洗\n"
   ]
  },
  {
   "cell_type": "markdown",
   "metadata": {},
   "source": [
    "#### 问题2：缺失值\n",
    "    在数据中有些年龄、体重数值是缺失的，这往往是因为数据量较大，在过程中，有些数值没有采集到。通常我们可以采用以下三种方法：\n",
    "    删除：删除数据缺失的记录；\n",
    "    均值：使用当前列的均值；\n",
    "    高频：使用当前列出现频率最高的数据。\n",
    "    比如我们想对df['Age']中缺失的数值用平均年龄进行填充，可以这样写：\n",
    "    df['Age'].fillna(df['Age'].mean(), inplace=True)\n"
   ]
  },
  {
   "cell_type": "markdown",
   "metadata": {},
   "source": [
    "#### 问题2：空行\n",
    "    \n",
    "    我们发现数据中有一个空行，除了 index 之外，全部的值都是 NaN。Pandas 的 read_csv() 并没有可选参数来忽略空行，这样，我们就需要在数据被读入之后再使用 dropna() 进行处理，删除空行。\n",
    "    \n",
    "    # 删除全空的行\n",
    "    \n",
    "    df.dropna(how='all',inplace=True) "
   ]
  },
  {
   "cell_type": "markdown",
   "metadata": {},
   "source": [
    "#### 问题3：列数据的单位不统一\n",
    "    \n",
    "    weight列的数值，有的单位是千克（kgs），有的单位是磅（lbs）。\n",
    "    \n",
    "    这里统一将磅（lbs）转化为千克（kgs）：\n",
    "    \n",
    "    # 获取 weight 数据列中单位为 lbs 的数据\n",
    "    rows_with_lbs = df['weight'].str.contains('lbs').fillna(False)\n",
    "    \n",
    "    # 将 lbs转换为 kgs, 2.2lbs=1kgs\n",
    "    for i,lbs_row in df[rows_with_lbs].iterrows():\n",
    "    \n",
    "        # 截取从头开始到倒数第三个字符之前，即去掉lbs。\n",
    "        weight = int(float(lbs_row['weight'][:-3])/2.2)\n",
    "        df.at[i,'weight'] = '{}kgs'.format(weight) \n"
   ]
  },
  {
   "cell_type": "markdown",
   "metadata": {},
   "source": [
    "#### 问题4：非ASCII字符\n",
    "    \n",
    "    如果文本中存在非 ASCII 的字符。我们还需要进行删除或者替换。\n",
    "    \n",
    "    这里使用对非ASCII字符进行删除方式\n",
    "   \n",
    "    # 删除非 ASCII 字符\n",
    "    df['name'].replace({r'[^\\x00-\\x7F]+':''}, regex=True, inplace=True)\n"
   ]
  },
  {
   "cell_type": "markdown",
   "metadata": {},
   "source": [
    "#### 问题5：一列有多个参数（可选）\n",
    "    可以将Name分成last name + first name\n",
    "    \n",
    "    也可以进行保留。\n",
    "    \n",
    "    # 切分名字，删除源数据列\n",
    "    df[['first_name','last_name']] = df['name'].str.split(expand=True)\n",
    "    df.drop('name', axis=1, inplace=True)\n",
    "    默认采用的空格进行分割，相当于df['name'].str.split(' ', expand=True)\n"
   ]
  },
  {
   "cell_type": "code",
   "execution_count": 23,
   "metadata": {},
   "outputs": [
    {
     "name": "stdout",
     "output_type": "stream",
     "text": [
      "['Age', 'Embarked=C', 'Embarked=Q', 'Embarked=S', 'Fare', 'Parch', 'Pclass', 'Sex=female', 'Sex=male', 'SibSp']\n",
      "[ -1.7062013   33.88975295  32.3346551   14.69223597   0.10078942\n",
      "  -4.21976038 -47.2594461  100.         -19.08335597 -14.10678045]\n"
     ]
    },
    {
     "name": "stderr",
     "output_type": "stream",
     "text": [
      "[Parallel(n_jobs=1)]: Using backend SequentialBackend with 1 concurrent workers.\n",
      "/opt/anaconda3/lib/python3.7/site-packages/sklearn/linear_model/_logistic.py:765: ConvergenceWarning: lbfgs failed to converge (status=1):\n",
      "STOP: TOTAL NO. of ITERATIONS REACHED LIMIT.\n",
      "\n",
      "Increase the number of iterations (max_iter) or scale the data as shown in:\n",
      "    https://scikit-learn.org/stable/modules/preprocessing.html\n",
      "Please also refer to the documentation for alternative solver options:\n",
      "    https://scikit-learn.org/stable/modules/linear_model.html#logistic-regression\n",
      "  extra_warning_msg=_LOGISTIC_SOLVER_CONVERGENCE_MSG)\n",
      "[Parallel(n_jobs=1)]: Done   1 out of   1 | elapsed:    0.1s finished\n"
     ]
    },
    {
     "data": {
      "image/png": "[encoded data removed]",
      "text/plain": [
       "<Figure size 432x288 with 1 Axes>"
      ]
     },
     "metadata": {
      "needs_background": "light"
     },
     "output_type": "display_data"
    }
   ],
   "source": [
    "# Project：对Titanic数据进行数据清洗\n",
    "\n",
    "import numpy as np\n",
    "import pandas as pd\n",
    "from sklearn.feature_extraction import DictVectorizer\n",
    "from sklearn.linear_model import LogisticRegression\n",
    "import matplotlib.pyplot as plt\n",
    "\n",
    "def show_feature_importance(feature_list, feature_importance):\n",
    "    # 设定阈值\n",
    "    fi_threshold = 20\n",
    "    # 重要特征的下标\n",
    "    important_idx = np.where(feature_importance > fi_threshold)[0]\n",
    "    # 特征名称\n",
    "    important_features = [feature_list[i] for i in important_idx]\n",
    "    # 重要特征\n",
    "    sorted_idx = np.argsort(feature_importance[important_idx])[::-1]\n",
    "    # 可视化\n",
    "    pos = np.arange(sorted_idx.shape[0]) + 0.5\n",
    "    plt.subplot(1, 2, 2)\n",
    "    plt.title('Feature Importance')\n",
    "    plt.barh(pos, feature_importance[important_idx][sorted_idx[::-1]], color='r',align='center')\n",
    "    plt.yticks(pos, [important_features[i] for i in sorted_idx[::-1]])\n",
    "    plt.xlabel('Relative Importance')\n",
    "    plt.draw()\n",
    "    plt.show()\n",
    "    \n",
    "# 数据加载\n",
    "train_data = pd.read_csv(\"data/titanic/train.csv\")\n",
    "test_data = pd.read_csv(\"data/titanic/test.csv\")\n",
    "# print(train_data.info()) \n",
    "# print(train_data.describe())\n",
    "# print(train_data.describe(include=['O']))# 查看离散数据类型的分布\n",
    "# print(test_data['Embarked'].value_counts()) 可以使用高频填充\n",
    "# print(train_data['Cabin'])\n",
    "\n",
    "# 填充缺失值\n",
    "train_data['Age'].fillna(train_data['Age'].mean(), inplace=True) # 使用平均年龄来填充年龄中的nan值\n",
    "test_data['Age'].fillna(test_data['Age'].mean(),inplace=True) # 使用平均年龄来填充年龄中的nan值\n",
    "train_data['Fare'].fillna(train_data['Fare'].mean(), inplace=True) # 使用票价的均值填充票价中的nan值\n",
    "test_data['Fare'].fillna(test_data['Fare'].mean(),inplace=True) # 使用票价的均值填充票价中的nan值\n",
    "# print(train_data['Embarked'].value_counts())\n",
    "train_data['Embarked'].fillna('S', inplace=True) # 使用登录最多的港口来填充登录港口的nan值\n",
    "test_data['Embarked'].fillna('S',inplace=True) # 使用登录最多的港口来填充登录港口的nan值\n",
    "\n",
    "# 特征选择\n",
    "features = ['Pclass', 'Sex', 'Age', 'SibSp', 'Parch', 'Fare', 'Embarked']\n",
    "train_features = train_data[features]\n",
    "train_labels = train_data['Survived']\n",
    "test_features = test_data[features]\n",
    "\n",
    "# 特征转化 DictVectorizer将非数字化（符号化）的但具有一定结构的特征数据，转成数字0/1表示\n",
    "dvec=DictVectorizer(sparse=False)\n",
    "train_features=dvec.fit_transform(train_features.to_dict(orient='record'))\n",
    "print(dvec.feature_names_)\n",
    "\n",
    "# 使用LR分类器\n",
    "clf = LogisticRegression(max_iter=100, verbose=True, random_state=33, tol=1e-4)\n",
    "clf.fit(train_features, train_labels)\n",
    "\n",
    "# 获取特征重要性（更容易幸存的特征）\n",
    "feature_importance = clf.coef_[0]\n",
    "feature_importance = 100.0 * (feature_importance / feature_importance.max())\n",
    "print(feature_importance)\n",
    "show_feature_importance(dvec.feature_names_, feature_importance)\n",
    "\n"
   ]
  },
  {
   "cell_type": "markdown",
   "metadata": {},
   "source": [
    "### Project：对Steam-200K 数据进行数据清洗"
   ]
  },
  {
   "cell_type": "code",
   "execution_count": 48,
   "metadata": {},
   "outputs": [
    {
     "name": "stdout",
     "output_type": "stream",
     "text": [
      "显示前5条数据\n",
      "      UserID                        Game    Action  Hours  NoNeed\n",
      "0  151603712  The Elder Scrolls V Skyrim  purchase    1.0       0\n",
      "1  151603712  The Elder Scrolls V Skyrim      play  273.0       0\n",
      "2  151603712                   Fallout 4  purchase    1.0       0\n",
      "3  151603712                   Fallout 4      play   87.0       0\n",
      "4  151603712                       Spore  purchase    1.0       0\n",
      "显示数据大小\n",
      "(200000, 5)\n",
      "增加了Hours_Played字段后，数据大小\n",
      "(200000, 6)\n",
      "删除重复项后的数据集：\n",
      "(128804, 3)\n",
      "       UserID                   Game  Hours_Played\n",
      "65430    5250            Alien Swarm           4.9\n",
      "65424    5250        Cities Skylines         144.0\n",
      "65435    5250         Counter-Strike           1.0\n",
      "65436    5250  Counter-Strike Source           1.0\n",
      "65437    5250          Day of Defeat           1.0\n",
      "数据集中包含了 12393 玩家，5155 游戏\n",
      "用户行为矩阵的稀疏性（填充比例）为0.20% \n"
     ]
    }
   ],
   "source": [
    "# Project：对Steam-200K 数据进行数据清洗\n",
    "import pandas as pd \n",
    "\n",
    "df = pd.read_csv('data/steam-200k.csv', header=None, names=[\"UserID\",\"Game\",\"Action\",\"Hours\",\"NoNeed\"])\n",
    "# 数据探索\n",
    "print('显示前5条数据')\n",
    "print(df.head())\n",
    "print('显示数据大小')\n",
    "print(df.shape)\n",
    "# 创建Hours_Played字段，替代原有的Action和Hours，0表示仅购买，大于0表示购买且游戏时长\n",
    "df['Hours_Played'] = df['Hours'].astype('float32')\n",
    "# 如果字段Action=purchase，并且Hours=1.0，将设置Hours_Played=0\n",
    "df.loc[(df['Action'] == 'purchase') & (df['Hours'] == 1.0), 'Hours'] = 0\n",
    "print('增加了Hours_Played字段后，数据大小')\n",
    "print(df.shape)\n",
    "\n",
    "# 对数据从小到大进行排序, df下标也会发生变化\n",
    "df.UserID = df.UserID.astype('int')\n",
    "df = df.sort_values(['UserID', 'Game', 'Hours_Played'], ascending=True)\n",
    "\n",
    "# 删除重复项，并保留最后一项出现的项（因为最后一项是用户游戏时间，第一项为购买）\n",
    "clean_df = df.drop_duplicates(['UserID', 'Game'], keep = 'last')\n",
    "\n",
    "# 去掉不用的列：Action, Hours, Not Needed\n",
    "clean_df = clean_df.drop(['Action', 'Hours', 'NoNeed'], axis = 1)\n",
    "print('删除重复项后的数据集：')\n",
    "print(clean_df.shape)\n",
    "print(clean_df.head(5))\n",
    "\n",
    "# 探索下数据集的特征\n",
    "n_users = len(clean_df.UserID.unique())\n",
    "n_games = len(clean_df.Game.unique())\n",
    "print('数据集中包含了 {0} 玩家，{1} 游戏'.format(n_users, n_games))\n",
    "\n",
    "# 矩阵的稀疏性\n",
    "sparsity = clean_df.shape[0] / float(n_users * n_games)\n",
    "print('用户行为矩阵的稀疏性（填充比例）为{:.2%} '.format(sparsity))\n"
   ]
  }
 ],
 "metadata": {
  "kernelspec": {
   "display_name": "Python 3",
   "language": "python",
   "name": "python3"
  },
  "language_info": {
   "codemirror_mode": {
    "name": "ipython",
    "version": 3
   },
   "file_extension": ".py",
   "mimetype": "text/x-python",
   "name": "python",
   "nbconvert_exporter": "python",
   "pygments_lexer": "ipython3",
   "version": "3.7.6"
  }
 },
 "nbformat": 4,
 "nbformat_minor": 4
}
